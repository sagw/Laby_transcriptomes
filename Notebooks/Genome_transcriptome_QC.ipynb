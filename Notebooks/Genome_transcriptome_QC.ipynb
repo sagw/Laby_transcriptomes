{
 "cells": [
  {
   "cell_type": "markdown",
   "metadata": {},
   "source": [
    "going to run them through fastq screen"
   ]
  },
  {
   "cell_type": "code",
   "execution_count": null,
   "metadata": {},
   "outputs": [],
   "source": [
    "curl 'ftp://ftp.ncbi.nlm.nih.gov/genomes/genbank/bacteria/assembly_summary.txt'>assembly_summary.txt\n",
    " \n",
    "#edited it a bit to become filepaths \n",
    "\n",
    "awk -F \"\\t\" '$12==\"Complete Genome\" && $11==\"latest\"{print $20}' assembly_summary.txt > ftpdirpaths\n",
    "awk 'BEGIN{FS=OFS=\"/\";filesuffix=\"genomic.fna.gz\"}{ftpdir=$0;asm=$10;file=asm\"_\"filesuffix;print ftpdir,file}' ftpdirpaths > ftpfilepaths \n",
    "\n",
    "#and then used wget to download all \n",
    "wget -i ftpfilepaths\n",
    "\n",
    "#unzip\n",
    "!gunzip *.fna.gz\n",
    "\n",
    "cat *.fna >> bacterial_reference.fna\n"
   ]
  },
  {
   "cell_type": "code",
   "execution_count": null,
   "metadata": {},
   "outputs": [],
   "source": [
    "curl 'ftp://ftp.ncbi.nlm.nih.gov/genomes/genbank_old/fungi/assembly_summary.txt'>assembly_summary.txt\n",
    " \n",
    "#edited it a bit to become filepaths \n",
    "\n",
    "awk -F \"\\t\" '$12==\"Complete Genome\" && $11==\"latest\"{print $20}' assembly_summary.txt > ftpdirpaths\n",
    "awk 'BEGIN{FS=OFS=\"/\";filesuffix=\"genomic.fna.gz\"}{ftpdir=$0;asm=$10;file=asm\"_\"filesuffix;print ftpdir,file}' ftpdirpaths > ftpfilepaths \n",
    "\n",
    "#and then used wget to download all \n",
    "wget -i ftpfilepaths\n",
    "\n",
    "#unzip\n",
    "!gunzip *.fna.gz\n",
    "\n",
    "cat *.fna >> fungal_reference.fna\n"
   ]
  },
  {
   "cell_type": "code",
   "execution_count": null,
   "metadata": {},
   "outputs": [],
   "source": [
    "curl 'ftp://ftp.ncbi.nlm.nih.gov/genomes/genbank_old/viral/assembly_summary.txt'>assembly_summary.txt\n",
    " \n",
    "#edited it a bit to become filepaths \n",
    "\n",
    "awk -F \"\\t\" '$12==\"Complete Genome\" && $11==\"latest\"{print $20}' assembly_summary.txt > ftpdirpaths\n",
    "awk 'BEGIN{FS=OFS=\"/\";filesuffix=\"genomic.fna.gz\"}{ftpdir=$0;asm=$10;file=asm\"_\"filesuffix;print ftpdir,file}' ftpdirpaths > ftpfilepaths \n",
    "\n",
    "#and then used wget to download all \n",
    "wget -i ftpfilepaths\n",
    "\n",
    "#unzip\n",
    "!gunzip *.fna.gz\n",
    "cat *.fna >> viral_reference.fna\n"
   ]
  },
  {
   "cell_type": "code",
   "execution_count": null,
   "metadata": {},
   "outputs": [],
   "source": []
  },
  {
   "cell_type": "code",
   "execution_count": null,
   "metadata": {},
   "outputs": [],
   "source": [
    "wget https://www.ncbi.nlm.nih.gov/assembly/GCA_015227615.1"
   ]
  },
  {
   "cell_type": "code",
   "execution_count": null,
   "metadata": {},
   "outputs": [],
   "source": [
    "https://ftp.ncbi.nlm.nih.gov/genomes/genbank_old/vertebrate_mammalian/Homo_sapiens/"
   ]
  },
  {
   "cell_type": "code",
   "execution_count": null,
   "metadata": {},
   "outputs": [],
   "source": [
    " /local/home/sarahgw/anaconda2/bin/bowtie2-build -f /local/home/sarahgw/references/Myotis_Lucifugus2.0/Myotis_lucifugus.Myoluc2.0.dna_sm.toplevel.fa /local/home/sarahgw/references/Myotis_Lucifugus2.0/MyoLuc_toplevel_index\n"
   ]
  },
  {
   "cell_type": "code",
   "execution_count": null,
   "metadata": {},
   "outputs": [],
   "source": [
    "# make the indexes for each genome\n",
    "# /bin/sh\n",
    "# ----------------Parameters---------------------- #\n",
    "#$ -S /bin/sh\n",
    "#$ -q sThC.q\n",
    "#$ -l mres=2G,h_data=2G,h_vmem=2G\n",
    "#$ -cwd\n",
    "#$ -j y\n",
    "#$ -N index_bac\n",
    "#$ -o index_bac.log\n",
    "#$ -m bea\n",
    "#$ -M gignoux-wolfsohns@si.edu\n",
    "#\n",
    "# ----------------Modules------------------------- #\n",
    "module load bioinformatics/bowtie2\n",
    "#\n",
    "# ----------------Your Commands------------------- #\n",
    "#\n",
    "echo + `date` job $JOB_NAME started in $QUEUE with jobID=$JOB_ID on $HOSTNAME\n",
    "#\n",
    "\n",
    "bowtie2-build bacterial_reference.fna bacterial_reference_index\n",
    "\n",
    "#\n",
    "echo = `date` job $JOB_NAME done\n"
   ]
  },
  {
   "cell_type": "code",
   "execution_count": null,
   "metadata": {},
   "outputs": [],
   "source": [
    "\n",
    "##to submit job:\n",
    "qsub index_bac.job"
   ]
  },
  {
   "cell_type": "markdown",
   "metadata": {},
   "source": [
    "NEed more memory, and longer time frame. the wiki says can request 450 gb memory but it was giving me a \"no suitable queues found\" error, so obviously too much, successfully submitted with 50 g memory, 15 threads and long time frame...well see. That didn't run. "
   ]
  },
  {
   "cell_type": "code",
   "execution_count": null,
   "metadata": {},
   "outputs": [],
   "source": [
    "# /bin/sh\n",
    "# ----------------Parameters---------------------- #\n",
    "#$ -S /bin/sh\n",
    "#$ -pe mthread 15\n",
    "#$ -q lThM.q\n",
    "#$ -l mres=750G,h_data=50G,h_vmem=50G,himem\n",
    "#$ -cwd\n",
    "#$ -j y\n",
    "#$ -N index_bac\n",
    "#$ -o index_bac.log\n",
    "#$ -M gignoux-wolfsohns@si.edu\n",
    "#\n",
    "# ----------------Modules------------------------- #\n",
    "module load bioinformatics/bowtie2\n",
    "#\n",
    "# ----------------Your Commands------------------- #\n",
    "#\n",
    "echo + `date` job $JOB_NAME started in $QUEUE with jobID=$JOB_ID on $HOSTNAME\n",
    "echo + NSLOTS = $NSLOTS\n",
    "#\n",
    "bowtie2-build bacterial_reference.fna bacterial_reference_index --large-index --threads 15\n",
    "#\n",
    "echo = `date` job $JOB_NAME done\n",
    "index_bac.job (END)\n"
   ]
  },
  {
   "cell_type": "markdown",
   "metadata": {},
   "source": [
    "split bacterial_reference.fna in two, try creating two separate indexes then run in high memory queue and short time frame"
   ]
  },
  {
   "cell_type": "code",
   "execution_count": null,
   "metadata": {},
   "outputs": [],
   "source": [
    "cat GCA_00[0-4]* > bacterial_reference0004.fasta\n",
    "cat GCA_00[5-9]* > bacterial_reference0059.fasta\n",
    "cat GCA_01[0-4]* > bacterial_reference0104.fasta\n",
    "cat GCA_01[5-9]* > bacterial_reference0159.fasta\n",
    "cat GCA_02* > bacterial_reference02.fasta"
   ]
  },
  {
   "cell_type": "code",
   "execution_count": null,
   "metadata": {},
   "outputs": [],
   "source": [
    "# /bin/sh\n",
    "# ----------------Parameters---------------------- #\n",
    "#$ -S /bin/sh\n",
    "#$ -pe mthread 20\n",
    "#$ -q sThM.q\n",
    "#$ -l mres=1000G,h_data=50G,h_vmem=50G,himem\n",
    "#$ -cwd\n",
    "#$ -j y\n",
    "#$ -N index_bac0004\n",
    "#$ -o index_bac0004.log\n",
    "#$ -M gignoux-wolfsohns@si.edu\n",
    "#\n",
    "# ----------------Modules------------------------- #\n",
    "module load bioinformatics/bowtie2\n",
    "#\n",
    "# ----------------Your Commands------------------- #\n",
    "#\n",
    "echo + `date` job $JOB_NAME started in $QUEUE with jobID=$JOB_ID on $HOSTNAME\n",
    "echo + NSLOTS = $NSLOTS\n",
    "#\n",
    "bowtie2-build bacterial_reference0004.fna bacterial_reference0004_index --large-index --threads 20\n",
    "\n",
    "#\n",
    "echo = `date` job $JOB_NAME done"
   ]
  },
  {
   "cell_type": "markdown",
   "metadata": {},
   "source": [
    "Add paths to all the index filed to the .conf file in fastq_screen folder"
   ]
  },
  {
   "cell_type": "code",
   "execution_count": null,
   "metadata": {},
   "outputs": [],
   "source": [
    "/home/gignoux-wolfsohns/FastQ-Screen-0.15.0/fastq_screen --subset 0 --tag --aligner Bowtie2 *R1_001.fastq R2_001.fastq\n"
   ]
  },
  {
   "cell_type": "code",
   "execution_count": null,
   "metadata": {},
   "outputs": [],
   "source": []
  },
  {
   "cell_type": "code",
   "execution_count": null,
   "metadata": {},
   "outputs": [],
   "source": [
    "# /bin/sh\n",
    "# ----------------Parameters---------------------- #\n",
    "#$ -S /bin/sh\n",
    "#$ -pe mthread 15\n",
    "#$ -q sThC.q\n",
    "#$ -l mres=120G,h_data=8G,h_vmem=8G\n",
    "#$ -cwd\n",
    "#$ -j y\n",
    "#$ -N transcriptome_screen\n",
    "#$ -o transcriptome_screen.log\n",
    "#$ -M gignoux-wolfsohns@si.edu\n",
    "#\n",
    "# ----------------Modules------------------------- #\n",
    "module load bioinformatics/bowtie2\n",
    "#\n",
    "# ----------------Your Commands------------------- #\n",
    "#\n",
    "echo + `date` job $JOB_NAME started in $QUEUE with jobID=$JOB_ID on $HOSTNAME\n",
    "echo + NSLOTS = $NSLOTS\n",
    "#\n",
    "\n",
    "\n",
    "for f in t8b t316b;\n",
    "do\n",
    "\n",
    "/home/gignoux-wolfsohns/FastQ-Screen-0.15.0/fastq_screen --force  --threads 15 --subset 0 --tag --aligner Bowtie2 \"$f\"_1_val_1.fq \"$f\"_2_val_2.fq;\n",
    "\n",
    "done\n",
    "\n",
    "#\n",
    "echo = `date` job $JOB_NAME done\n",
    "\n"
   ]
  },
  {
   "cell_type": "code",
   "execution_count": null,
   "metadata": {},
   "outputs": [],
   "source": []
  },
  {
   "cell_type": "markdown",
   "metadata": {},
   "source": [
    "Try running kraken see if it gives different results than fastqscreen"
   ]
  },
  {
   "cell_type": "code",
   "execution_count": null,
   "metadata": {},
   "outputs": [],
   "source": [
    "# /bin/sh \n",
    "# ----------------Parameters---------------------- #\n",
    "#$ -S /bin/sh\n",
    "#$ -pe mthread 12\n",
    "#$ -q sThC.q\n",
    "#$ -l mres=96G,h_data=8G,h_vmem=8G\n",
    "#$ -cwd\n",
    "#$ -j y\n",
    "#$ -N trans_kraken2\n",
    "#$ -o trans_kraken2.log\n",
    "\n",
    "#\n",
    "# ----------------Modules------------------------- #\n",
    "module load bioinformatics/kraken/2.1.2\n",
    "#\n",
    "# ----------------Your Commands------------------- #\n",
    "#\n",
    "echo + `date` job $JOB_NAME started in $QUEUE with jobID=$JOB_ID on $HOSTNAME\n",
    "echo + NSLOTS = $NSLOTS\n",
    "#\n",
    "for f in t8b t316b;\n",
    "do\n",
    "\n",
    "kraken2 --db /data/genomics/db/Kraken/kraken2_db/ --paired --report transcriptome_report_kraken2 --threads $NSLOTS --use-names \"$f\"_1_val_1.fq \"$f\"_2_val_2.fq;a\n",
    "\n",
    "done\n",
    "#\n",
    "echo = `date` job $JOB_NAME done"
   ]
  },
  {
   "cell_type": "code",
   "execution_count": null,
   "metadata": {},
   "outputs": [],
   "source": [
    "  kraken2 --paired --classified-out cseqs#.fq seqs_1.fq seqs_2.fq\n"
   ]
  },
  {
   "cell_type": "code",
   "execution_count": null,
   "metadata": {},
   "outputs": [],
   "source": []
  },
  {
   "cell_type": "code",
   "execution_count": null,
   "metadata": {},
   "outputs": [],
   "source": []
  }
 ],
 "metadata": {
  "kernelspec": {
   "display_name": "Python 3",
   "language": "python",
   "name": "python3"
  },
  "language_info": {
   "codemirror_mode": {
    "name": "ipython",
    "version": 3
   },
   "file_extension": ".py",
   "mimetype": "text/x-python",
   "name": "python",
   "nbconvert_exporter": "python",
   "pygments_lexer": "ipython3",
   "version": "3.8.3"
  }
 },
 "nbformat": 4,
 "nbformat_minor": 4
}
