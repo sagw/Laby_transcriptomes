{
 "cells": [
  {
   "cell_type": "markdown",
   "metadata": {},
   "source": [
    "## Running Repeatmasker "
   ]
  },
  {
   "cell_type": "markdown",
   "metadata": {},
   "source": [
    "Katrina ran on 8b with following commands (found in .job file):\n",
    "Need to run on 316b"
   ]
  },
  {
   "cell_type": "code",
   "execution_count": null,
   "metadata": {},
   "outputs": [],
   "source": [
    "# /bin/sh \n",
    "# ----------------Parameters---------------------- #\n",
    "#$  -S /bin/sh\n",
    "#$ -q sThC.q\n",
    "#$ -l mres=4G,h_data=4G,h_vmem=4G\n",
    "#$ -cwd\n",
    "#$ -j y\n",
    "#$ -N repeatmasker_spades_scaffold_8b\n",
    "#$ -o repeatmasker_spades_scaffold_8b.log\n",
    "#$ -M lohank@si.edu\n",
    "#\n",
    "# ----------------Modules------------------------- #\n",
    "module load bioinformatics/repeatmasker\n",
    "#\n",
    "# ----------------Your Commands------------------- #\n",
    "#\n",
    "echo + `date` job $JOB_NAME started in $QUEUE with jobID=$JOB_ID on $HOSTNAME\n",
    "#\n",
    "RepeatMasker spades_8b_scaffolds.fasta\n",
    "#\n",
    "echo = `date` job $JOB_NAME done\n"
   ]
  },
  {
   "cell_type": "code",
   "execution_count": null,
   "metadata": {},
   "outputs": [],
   "source": [
    "# move the spades assembly to hydra ugh so many spaces, just do it from the directory on dropbox \n",
    "rsync 316b_scaffolds.fasta gignoux-wolfsohns@hydra-login02.si.edu:/pool/genomics/gignoux-wolfsohns/laby_transcriptome"
   ]
  },
  {
   "cell_type": "code",
   "execution_count": null,
   "metadata": {},
   "outputs": [],
   "source": [
    "#save the .job files to the dropbox folder so its all together, then upload to hydra\n",
    "rsync repeatmasker_spades_scaffold_316b.job gignoux-wolfsohns@hydra-login02.si.edu:/pool/genomics/gignoux-wolfsohns/laby_transcriptome\n",
    "# /bin/sh \n",
    "# ----------------Parameters---------------------- #\n",
    "#$  -S /bin/sh\n",
    "#$ -q sThC.q\n",
    "#$ -l mres=4G,h_data=4G,h_vmem=4G\n",
    "#$ -cwd\n",
    "#$ -j y\n",
    "#$ -N repeatmasker_spades_scaffold_316b\n",
    "#$ -o repeatmasker_spades_scaffold_316b.log\n",
    "#$ -m bea\n",
    "#$ -M gignoux-wolfsohns@si.edu\n",
    "#\n",
    "# ----------------Modules------------------------- #\n",
    "module load bioinformatics/repeatmasker\n",
    "#\n",
    "# ----------------Your Commands------------------- #\n",
    "#\n",
    "echo + `date` job $JOB_NAME started in $QUEUE with jobID=$JOB_ID on $HOSTNAME\n",
    "#\n",
    "RepeatMasker 316b_scaffolds.fasta\n",
    "#\n",
    "echo = `date` job $JOB_NAME done\n",
    "    \n",
    "##to submit job:\n",
    "qsub repeatmasker_spades_scaffold_316b.job\n",
    "#that ran incredibly quickly..."
   ]
  },
  {
   "cell_type": "code",
   "execution_count": 5,
   "metadata": {},
   "outputs": [
    {
     "name": "stdout",
     "output_type": "stream",
     "text": [
      "repeatmasker_spades_scaffold_316b.job  spades_8b_scaffolds.fasta.log\r\n",
      "repeatmasker_spades_scaffold_8b.job    spades_8b_scaffolds.fasta.masked\r\n",
      "repeatmasker_spades_scaffold_8b.log    spades_8b_scaffolds.fasta.out\r\n",
      "spades_8b_scaffolds.fasta              spades_8b_scaffolds.fasta.tbl\r\n",
      "spades_8b_scaffolds.fasta.cat          spades_8b_winmasked.fasta\r\n"
     ]
    }
   ],
   "source": [
    "ls \"/Users/sarahgw/Dropbox (Smithsonian)/Laby_Transcriptomes/Genome Assembly/Repeatmasker_results\""
   ]
  },
  {
   "cell_type": "code",
   "execution_count": null,
   "metadata": {},
   "outputs": [],
   "source": [
    "rsync 'gignoux-wolfsohns@hydra-login02.si.edu:/pool/genomics/gignoux-wolfsohns/laby_transcriptome*' ."
   ]
  },
  {
   "cell_type": "code",
   "execution_count": 6,
   "metadata": {},
   "outputs": [
    {
     "name": "stdout",
     "output_type": "stream",
     "text": [
      "316b_scaffolds.fasta                   repeatmasker_spades_scaffold_8b.log\r\n",
      "316b_scaffolds.fasta.cat               spades_8b_scaffolds.fasta\r\n",
      "316b_scaffolds.fasta.masked            spades_8b_scaffolds.fasta.cat\r\n",
      "316b_scaffolds.fasta.out               spades_8b_scaffolds.fasta.log\r\n",
      "316b_scaffolds.fasta.tbl               spades_8b_scaffolds.fasta.masked\r\n",
      "repeatmasker_spades_scaffold_316b.job  spades_8b_scaffolds.fasta.out\r\n",
      "repeatmasker_spades_scaffold_316b.log  spades_8b_scaffolds.fasta.tbl\r\n",
      "repeatmasker_spades_scaffold_8b.job    spades_8b_winmasked.fasta\r\n"
     ]
    }
   ],
   "source": [
    "ls \"/Users/sarahgw/Dropbox (Smithsonian)/Laby_Transcriptomes/Genome Assembly/Repeatmasker_results\""
   ]
  },
  {
   "cell_type": "code",
   "execution_count": 13,
   "metadata": {},
   "outputs": [
    {
     "name": "stdout",
     "output_type": "stream",
     "text": [
      "   17066 /Users/sarahgw/Dropbox (Smithsonian)/Laby_Transcriptomes/Genome Assembly/Repeatmasker_results/316b_scaffolds.fasta.masked\n",
      "   70633 /Users/sarahgw/Dropbox (Smithsonian)/Laby_Transcriptomes/Genome Assembly/Repeatmasker_results/spades_8b_scaffolds.fasta.masked\n"
     ]
    }
   ],
   "source": [
    "!wc -l \"/Users/sarahgw/Dropbox (Smithsonian)/Laby_Transcriptomes/Genome Assembly/Repeatmasker_results/316b_scaffolds.fasta.masked\"\n",
    "!wc -l \"/Users/sarahgw/Dropbox (Smithsonian)/Laby_Transcriptomes/Genome Assembly/Repeatmasker_results/spades_8b_scaffolds.fasta.masked\""
   ]
  },
  {
   "cell_type": "code",
   "execution_count": 17,
   "metadata": {
    "scrolled": true
   },
   "outputs": [
    {
     "name": "stdout",
     "output_type": "stream",
     "text": [
      "   59522 /Users/sarahgw/Dropbox (Smithsonian)/Laby_Transcriptomes/Genome Assembly/Repeatmasker_results/spades_8b_scaffolds.fasta\n",
      "   14325 /Users/sarahgw/Dropbox (Smithsonian)/Laby_Transcriptomes/Genome Assembly/Repeatmasker_results/316b_scaffolds.fasta\n"
     ]
    }
   ],
   "source": [
    "!wc -l \"/Users/sarahgw/Dropbox (Smithsonian)/Laby_Transcriptomes/Genome Assembly/Repeatmasker_results/spades_8b_scaffolds.fasta\"\n",
    "!wc -l \"/Users/sarahgw/Dropbox (Smithsonian)/Laby_Transcriptomes/Genome Assembly/Repeatmasker_results/316b_scaffolds.fasta\""
   ]
  },
  {
   "cell_type": "markdown",
   "metadata": {},
   "source": [
    "So 8b has many more scaffolds than 316b?"
   ]
  },
  {
   "cell_type": "code",
   "execution_count": null,
   "metadata": {},
   "outputs": [],
   "source": [
    "# make the indexes for each genome\n",
    "# /bin/sh\n",
    "# ----------------Parameters---------------------- #\n",
    "#$ -S /bin/sh\n",
    "#$ -q sThC.q\n",
    "#$ -l mres=2G,h_data=2G,h_vmem=2G\n",
    "#$ -cwd\n",
    "#$ -j y\n",
    "#$ -N index_316b\n",
    "#$ -o index_316b.log\n",
    "#$ -m bea\n",
    "#$ -M gignoux-wolfsohns@si.edu\n",
    "#\n",
    "# ----------------Modules------------------------- #\n",
    "module load bioinformatics/bowtie2\n",
    "#\n",
    "# ----------------Your Commands------------------- #\n",
    "#\n",
    "echo + `date` job $JOB_NAME started in $QUEUE with jobID=$JOB_ID on $HOSTNAME\n",
    "#\n",
    "\n",
    "bowtie2-build 316b_scaffolds.fasta.masked 316b_masked\n",
    "\n",
    "#\n",
    "echo = `date` job $JOB_NAME done\n",
    "\n",
    "##to submit job:\n",
    "qsub index_316b.job"
   ]
  },
  {
   "cell_type": "markdown",
   "metadata": {},
   "source": [
    "Laby8bREADME for Laby transcriptomes\n",
    "\n",
    "GSLv3-7_32 files = 8b strain/species\n",
    "GSLv3-7_33 files = 316b strain/species\n",
    "\n",
    "8b = strain of Labyrinthula from Thalassia testudinum\n",
    "316b = strain of Labyrinthula zosterae from Zostera marina\n",
    "\n",
    "These \"names\" for the cultures are documented in Martin et al. 2016 published in \n",
    "https://link.springer.com/article/10.1007/s12237-016-0087-z\n",
    "\n",
    "I'm going to rename them when I copy them"
   ]
  },
  {
   "cell_type": "code",
   "execution_count": null,
   "metadata": {},
   "outputs": [],
   "source": []
  }
 ],
 "metadata": {
  "kernelspec": {
   "display_name": "Python 3",
   "language": "python",
   "name": "python3"
  },
  "language_info": {
   "codemirror_mode": {
    "name": "ipython",
    "version": 3
   },
   "file_extension": ".py",
   "mimetype": "text/x-python",
   "name": "python",
   "nbconvert_exporter": "python",
   "pygments_lexer": "ipython3",
   "version": "3.7.5"
  }
 },
 "nbformat": 4,
 "nbformat_minor": 2
}
