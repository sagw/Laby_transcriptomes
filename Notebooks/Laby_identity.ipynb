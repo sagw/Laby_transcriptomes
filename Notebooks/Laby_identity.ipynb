{
 "cells": [
  {
   "cell_type": "markdown",
   "metadata": {},
   "source": [
    "Primers ITS1 (5′-TCCGTAGGTGAACCTGCGG-3′) and ITS4 (5′-TCCTCCGCTTATTGATATGC-3′) (White et al. 1990), which flank the ITS1-5.8S-ITS2 portion of the eukaryotic rDNA gene\n",
    "\n",
    "\n",
    "https://link.springer.com/article/10.1007/s12237-016-0087-z#Sec2"
   ]
  },
  {
   "cell_type": "markdown",
   "metadata": {},
   "source": [
    "18S A (18S forward 5′-AACCTGGTTGATCCTGCCAGT-3′), and primer B (18S reverse 5′-TGATCCTTCTGCAGGTTCACCTAC-3′) (Medlin et al., 1988).\n",
    "\n",
    "https://www.sciencedirect.com/science/article/pii/S0944501317309692"
   ]
  },
  {
   "cell_type": "code",
   "execution_count": null,
   "metadata": {},
   "outputs": [],
   "source": [
    "cutadapt --discard-untrimmed -g TCCGTAGGTGAACCTGCGG...TCCTCCGCTTATTGATATGC /pool/genomics/gignoux-wolfsohns/laby_transcriptome/reads/genomes/ -o /pool/genomics/gignoux-wolfsohns/laby_transcriptome/reads/genomes/\n"
   ]
  },
  {
   "cell_type": "code",
   "execution_count": null,
   "metadata": {},
   "outputs": [],
   "source": [
    "# /bin/sh\n",
    "# ----------------Parameters---------------------- #\n",
    "#$ -S /bin/sh\n",
    "#$ -q sThC.q\n",
    "#$ -l mres=8G,h_data=8G,h_vmem=8G\n",
    "#$ -cwd\n",
    "#$ -j y\n",
    "#$ -N b18S_genome\n",
    "#$ -o b18S_genome.log\n",
    "#\n",
    "# ----------------Modules------------------------- #\n",
    "module load bioinformatics/cutadapt\n",
    "#\n",
    "# ----------------Your Commands------------------- #\n",
    "#\n",
    "echo + `date` job $JOB_NAME started in $QUEUE with jobID=$JOB_ID on $HOSTNAME\n",
    "#\n",
    "for f in 8b_S1_L001_R1_001 316b_S2_L001_R1_001; \n",
    "do\n",
    "cutadapt --discard-untrimmed -g AACCTGGTTGATCCTGCCAGT...TGATCCTTCTGCAGGTTCACCTAC /pool/genomics/gignoux-wolfsohns/laby_transcriptome/reads/genomes/\"$f\"_val_1.fq -o /pool/genomics/gignoux-wolfsohns/laby_transcriptome/reads/genomes/\"$f\"_18S.fq;\n",
    "done\n",
    "#\n",
    "echo = `date` job $JOB_NAME done\n",
    "\n",
    "\n",
    "\n"
   ]
  }
 ],
 "metadata": {
  "kernelspec": {
   "display_name": "Python 3",
   "language": "python",
   "name": "python3"
  },
  "language_info": {
   "codemirror_mode": {
    "name": "ipython",
    "version": 3
   },
   "file_extension": ".py",
   "mimetype": "text/x-python",
   "name": "python",
   "nbconvert_exporter": "python",
   "pygments_lexer": "ipython3",
   "version": "3.8.3"
  }
 },
 "nbformat": 4,
 "nbformat_minor": 4
}
