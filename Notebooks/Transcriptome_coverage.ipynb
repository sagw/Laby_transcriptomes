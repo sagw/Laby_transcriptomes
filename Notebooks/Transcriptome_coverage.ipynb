{
 "cells": [
  {
   "cell_type": "code",
   "execution_count": 1,
   "metadata": {},
   "outputs": [
    {
     "name": "stderr",
     "output_type": "stream",
     "text": [
      "Loading required package: ggplot2\n",
      "Registered S3 methods overwritten by 'ggplot2':\n",
      "  method         from \n",
      "  [.quosures     rlang\n",
      "  c.quosures     rlang\n",
      "  print.quosures rlang\n",
      "Loading required package: tidyr\n"
     ]
    }
   ],
   "source": [
    "require(ggplot2)\n",
    "require(tidyr)\n",
    "setwd(\"~/Dropbox (Smithsonian)/Laby_Transcriptomes/Bowtie2_mapping/\")"
   ]
  },
  {
   "cell_type": "code",
   "execution_count": 2,
   "metadata": {},
   "outputs": [],
   "source": [
    "coverage316=read.table(\"316b_coverage.txt\")"
   ]
  },
  {
   "cell_type": "code",
   "execution_count": 3,
   "metadata": {},
   "outputs": [
    {
     "data": {
      "text/html": [
       "<table>\n",
       "<thead><tr><th scope=col>V1</th><th scope=col>V2</th><th scope=col>V3</th></tr></thead>\n",
       "<tbody>\n",
       "\t<tr><td>NODE_1_length_34601_cov_13.4373_ID_10242</td><td>1                                       </td><td> 2                                      </td></tr>\n",
       "\t<tr><td>NODE_1_length_34601_cov_13.4373_ID_10242</td><td>2                                       </td><td> 3                                      </td></tr>\n",
       "\t<tr><td>NODE_1_length_34601_cov_13.4373_ID_10242</td><td>3                                       </td><td> 3                                      </td></tr>\n",
       "\t<tr><td>NODE_1_length_34601_cov_13.4373_ID_10242</td><td>4                                       </td><td> 7                                      </td></tr>\n",
       "\t<tr><td>NODE_1_length_34601_cov_13.4373_ID_10242</td><td>5                                       </td><td> 9                                      </td></tr>\n",
       "\t<tr><td>NODE_1_length_34601_cov_13.4373_ID_10242</td><td>6                                       </td><td>11                                      </td></tr>\n",
       "</tbody>\n",
       "</table>\n"
      ],
      "text/latex": [
       "\\begin{tabular}{r|lll}\n",
       " V1 & V2 & V3\\\\\n",
       "\\hline\n",
       "\t NODE\\_1\\_length\\_34601\\_cov\\_13.4373\\_ID\\_10242 & 1                                                      &  2                                                    \\\\\n",
       "\t NODE\\_1\\_length\\_34601\\_cov\\_13.4373\\_ID\\_10242 & 2                                                      &  3                                                    \\\\\n",
       "\t NODE\\_1\\_length\\_34601\\_cov\\_13.4373\\_ID\\_10242 & 3                                                      &  3                                                    \\\\\n",
       "\t NODE\\_1\\_length\\_34601\\_cov\\_13.4373\\_ID\\_10242 & 4                                                      &  7                                                    \\\\\n",
       "\t NODE\\_1\\_length\\_34601\\_cov\\_13.4373\\_ID\\_10242 & 5                                                      &  9                                                    \\\\\n",
       "\t NODE\\_1\\_length\\_34601\\_cov\\_13.4373\\_ID\\_10242 & 6                                                      & 11                                                    \\\\\n",
       "\\end{tabular}\n"
      ],
      "text/markdown": [
       "\n",
       "| V1 | V2 | V3 |\n",
       "|---|---|---|\n",
       "| NODE_1_length_34601_cov_13.4373_ID_10242 | 1                                        |  2                                       |\n",
       "| NODE_1_length_34601_cov_13.4373_ID_10242 | 2                                        |  3                                       |\n",
       "| NODE_1_length_34601_cov_13.4373_ID_10242 | 3                                        |  3                                       |\n",
       "| NODE_1_length_34601_cov_13.4373_ID_10242 | 4                                        |  7                                       |\n",
       "| NODE_1_length_34601_cov_13.4373_ID_10242 | 5                                        |  9                                       |\n",
       "| NODE_1_length_34601_cov_13.4373_ID_10242 | 6                                        | 11                                       |\n",
       "\n"
      ],
      "text/plain": [
       "  V1                                       V2 V3\n",
       "1 NODE_1_length_34601_cov_13.4373_ID_10242 1   2\n",
       "2 NODE_1_length_34601_cov_13.4373_ID_10242 2   3\n",
       "3 NODE_1_length_34601_cov_13.4373_ID_10242 3   3\n",
       "4 NODE_1_length_34601_cov_13.4373_ID_10242 4   7\n",
       "5 NODE_1_length_34601_cov_13.4373_ID_10242 5   9\n",
       "6 NODE_1_length_34601_cov_13.4373_ID_10242 6  11"
      ]
     },
     "metadata": {},
     "output_type": "display_data"
    }
   ],
   "source": [
    "head(coverage316)"
   ]
  },
  {
   "cell_type": "code",
   "execution_count": 4,
   "metadata": {},
   "outputs": [],
   "source": [
    "colnames(coverage316)=c(\"Scaffold\", \"Position\", \"Depth\")"
   ]
  },
  {
   "cell_type": "code",
   "execution_count": 5,
   "metadata": {},
   "outputs": [
    {
     "data": {
      "text/html": [
       "237"
      ],
      "text/latex": [
       "237"
      ],
      "text/markdown": [
       "237"
      ],
      "text/plain": [
       "[1] 237"
      ]
     },
     "metadata": {},
     "output_type": "display_data"
    }
   ],
   "source": [
    "length(unique(coverage316$Scaffold))"
   ]
  },
  {
   "cell_type": "code",
   "execution_count": 6,
   "metadata": {},
   "outputs": [],
   "source": [
    "coverage316$continuous=1:NROW(coverage316)"
   ]
  },
  {
   "cell_type": "code",
   "execution_count": 7,
   "metadata": {
    "scrolled": true
   },
   "outputs": [
    {
     "data": {
      "text/html": [
       "<table>\n",
       "<thead><tr><th></th><th scope=col>Scaffold</th><th scope=col>Position</th><th scope=col>Depth</th><th scope=col>continuous</th></tr></thead>\n",
       "<tbody>\n",
       "\t<tr><th scope=row>792202</th><td>NODE_318_length_136_cov_30.8889_ID_30584</td><td>131                                     </td><td>3                                       </td><td>792202                                  </td></tr>\n",
       "\t<tr><th scope=row>792203</th><td>NODE_318_length_136_cov_30.8889_ID_30584</td><td>132                                     </td><td>2                                       </td><td>792203                                  </td></tr>\n",
       "\t<tr><th scope=row>792204</th><td>NODE_318_length_136_cov_30.8889_ID_30584</td><td>133                                     </td><td>2                                       </td><td>792204                                  </td></tr>\n",
       "\t<tr><th scope=row>792205</th><td>NODE_318_length_136_cov_30.8889_ID_30584</td><td>134                                     </td><td>1                                       </td><td>792205                                  </td></tr>\n",
       "\t<tr><th scope=row>792206</th><td>NODE_318_length_136_cov_30.8889_ID_30584</td><td>135                                     </td><td>1                                       </td><td>792206                                  </td></tr>\n",
       "\t<tr><th scope=row>792207</th><td>NODE_318_length_136_cov_30.8889_ID_30584</td><td>136                                     </td><td>1                                       </td><td>792207                                  </td></tr>\n",
       "</tbody>\n",
       "</table>\n"
      ],
      "text/latex": [
       "\\begin{tabular}{r|llll}\n",
       "  & Scaffold & Position & Depth & continuous\\\\\n",
       "\\hline\n",
       "\t792202 & NODE\\_318\\_length\\_136\\_cov\\_30.8889\\_ID\\_30584 & 131                                                    & 3                                                      & 792202                                                \\\\\n",
       "\t792203 & NODE\\_318\\_length\\_136\\_cov\\_30.8889\\_ID\\_30584 & 132                                                    & 2                                                      & 792203                                                \\\\\n",
       "\t792204 & NODE\\_318\\_length\\_136\\_cov\\_30.8889\\_ID\\_30584 & 133                                                    & 2                                                      & 792204                                                \\\\\n",
       "\t792205 & NODE\\_318\\_length\\_136\\_cov\\_30.8889\\_ID\\_30584 & 134                                                    & 1                                                      & 792205                                                \\\\\n",
       "\t792206 & NODE\\_318\\_length\\_136\\_cov\\_30.8889\\_ID\\_30584 & 135                                                    & 1                                                      & 792206                                                \\\\\n",
       "\t792207 & NODE\\_318\\_length\\_136\\_cov\\_30.8889\\_ID\\_30584 & 136                                                    & 1                                                      & 792207                                                \\\\\n",
       "\\end{tabular}\n"
      ],
      "text/markdown": [
       "\n",
       "| <!--/--> | Scaffold | Position | Depth | continuous |\n",
       "|---|---|---|---|---|\n",
       "| 792202 | NODE_318_length_136_cov_30.8889_ID_30584 | 131                                      | 3                                        | 792202                                   |\n",
       "| 792203 | NODE_318_length_136_cov_30.8889_ID_30584 | 132                                      | 2                                        | 792203                                   |\n",
       "| 792204 | NODE_318_length_136_cov_30.8889_ID_30584 | 133                                      | 2                                        | 792204                                   |\n",
       "| 792205 | NODE_318_length_136_cov_30.8889_ID_30584 | 134                                      | 1                                        | 792205                                   |\n",
       "| 792206 | NODE_318_length_136_cov_30.8889_ID_30584 | 135                                      | 1                                        | 792206                                   |\n",
       "| 792207 | NODE_318_length_136_cov_30.8889_ID_30584 | 136                                      | 1                                        | 792207                                   |\n",
       "\n"
      ],
      "text/plain": [
       "       Scaffold                                 Position Depth continuous\n",
       "792202 NODE_318_length_136_cov_30.8889_ID_30584 131      3     792202    \n",
       "792203 NODE_318_length_136_cov_30.8889_ID_30584 132      2     792203    \n",
       "792204 NODE_318_length_136_cov_30.8889_ID_30584 133      2     792204    \n",
       "792205 NODE_318_length_136_cov_30.8889_ID_30584 134      1     792205    \n",
       "792206 NODE_318_length_136_cov_30.8889_ID_30584 135      1     792206    \n",
       "792207 NODE_318_length_136_cov_30.8889_ID_30584 136      1     792207    "
      ]
     },
     "metadata": {},
     "output_type": "display_data"
    }
   ],
   "source": [
    "tail(coverage316)"
   ]
  },
  {
   "cell_type": "code",
   "execution_count": 8,
   "metadata": {
    "scrolled": true
   },
   "outputs": [],
   "source": [
    "positive=(coverage316[coverage316$Depth!=0,])"
   ]
  },
  {
   "cell_type": "code",
   "execution_count": 9,
   "metadata": {},
   "outputs": [
    {
     "data": {
      "text/html": [
       "423.038104152965"
      ],
      "text/latex": [
       "423.038104152965"
      ],
      "text/markdown": [
       "423.038104152965"
      ],
      "text/plain": [
       "[1] 423.0381"
      ]
     },
     "metadata": {},
     "output_type": "display_data"
    }
   ],
   "source": [
    "mean(positive$Depth)"
   ]
  },
  {
   "cell_type": "code",
   "execution_count": 10,
   "metadata": {
    "scrolled": true
   },
   "outputs": [
    {
     "data": {
      "text/html": [
       "792207"
      ],
      "text/latex": [
       "792207"
      ],
      "text/markdown": [
       "792207"
      ],
      "text/plain": [
       "[1] 792207"
      ]
     },
     "metadata": {},
     "output_type": "display_data"
    }
   ],
   "source": [
    "NROW(coverage316)"
   ]
  },
  {
   "cell_type": "code",
   "execution_count": 11,
   "metadata": {},
   "outputs": [
    {
     "ename": "ERROR",
     "evalue": "Error in mean.default(): argument \"x\" is missing, with no default\n",
     "output_type": "error",
     "traceback": [
      "Error in mean.default(): argument \"x\" is missing, with no default\nTraceback:\n",
      "1. mean()",
      "2. mean.default()"
     ]
    }
   ],
   "source": [
    "mean()"
   ]
  },
  {
   "cell_type": "code",
   "execution_count": 12,
   "metadata": {},
   "outputs": [
    {
     "data": {
      "text/html": [
       "62.571272407338"
      ],
      "text/latex": [
       "62.571272407338"
      ],
      "text/markdown": [
       "62.571272407338"
      ],
      "text/plain": [
       "[1] 62.57127"
      ]
     },
     "metadata": {},
     "output_type": "display_data"
    }
   ],
   "source": [
    "(1-296513/792207)*100"
   ]
  },
  {
   "cell_type": "code",
   "execution_count": 13,
   "metadata": {},
   "outputs": [],
   "source": [
    "coverage316$posneg=ifelse(coverage316$Depth>0,1,0)"
   ]
  },
  {
   "cell_type": "code",
   "execution_count": 14,
   "metadata": {},
   "outputs": [],
   "source": [
    "percent=function(x) {\n",
    "    100*sum(x/NROW(x))\n",
    "}"
   ]
  },
  {
   "cell_type": "code",
   "execution_count": 19,
   "metadata": {},
   "outputs": [],
   "source": [
    "perscaf=as.data.frame(aggregate(posneg~Scaffold, data=coverage316, FUN=percent))"
   ]
  },
  {
   "cell_type": "code",
   "execution_count": 20,
   "metadata": {},
   "outputs": [
    {
     "data": {
      "text/html": [
       "<table>\n",
       "<thead><tr><th scope=col>Scaffold</th><th scope=col>posneg</th></tr></thead>\n",
       "<tbody>\n",
       "\t<tr><td>NODE_1_length_34601_cov_13.4373_ID_10242</td><td>54.53022                                </td></tr>\n",
       "\t<tr><td>NODE_10_length_11098_cov_20.6514_ID_8802</td><td>76.66246                                </td></tr>\n",
       "\t<tr><td>NODE_100_length_3245_cov_9.28223_ID_9940</td><td>58.79815                                </td></tr>\n",
       "\t<tr><td>NODE_101_length_3178_cov_7.86693_ID_8724</td><td>97.92322                                </td></tr>\n",
       "\t<tr><td>NODE_102_length_3178_cov_13.022_ID_9248 </td><td>65.44997                                </td></tr>\n",
       "\t<tr><td>NODE_103_length_3165_cov_16.05_ID_30769 </td><td>66.35071                                </td></tr>\n",
       "</tbody>\n",
       "</table>\n"
      ],
      "text/latex": [
       "\\begin{tabular}{r|ll}\n",
       " Scaffold & posneg\\\\\n",
       "\\hline\n",
       "\t NODE\\_1\\_length\\_34601\\_cov\\_13.4373\\_ID\\_10242 & 54.53022                                              \\\\\n",
       "\t NODE\\_10\\_length\\_11098\\_cov\\_20.6514\\_ID\\_8802 & 76.66246                                              \\\\\n",
       "\t NODE\\_100\\_length\\_3245\\_cov\\_9.28223\\_ID\\_9940 & 58.79815                                              \\\\\n",
       "\t NODE\\_101\\_length\\_3178\\_cov\\_7.86693\\_ID\\_8724 & 97.92322                                              \\\\\n",
       "\t NODE\\_102\\_length\\_3178\\_cov\\_13.022\\_ID\\_9248  & 65.44997                                              \\\\\n",
       "\t NODE\\_103\\_length\\_3165\\_cov\\_16.05\\_ID\\_30769  & 66.35071                                              \\\\\n",
       "\\end{tabular}\n"
      ],
      "text/markdown": [
       "\n",
       "| Scaffold | posneg |\n",
       "|---|---|\n",
       "| NODE_1_length_34601_cov_13.4373_ID_10242 | 54.53022                                 |\n",
       "| NODE_10_length_11098_cov_20.6514_ID_8802 | 76.66246                                 |\n",
       "| NODE_100_length_3245_cov_9.28223_ID_9940 | 58.79815                                 |\n",
       "| NODE_101_length_3178_cov_7.86693_ID_8724 | 97.92322                                 |\n",
       "| NODE_102_length_3178_cov_13.022_ID_9248  | 65.44997                                 |\n",
       "| NODE_103_length_3165_cov_16.05_ID_30769  | 66.35071                                 |\n",
       "\n"
      ],
      "text/plain": [
       "  Scaffold                                 posneg  \n",
       "1 NODE_1_length_34601_cov_13.4373_ID_10242 54.53022\n",
       "2 NODE_10_length_11098_cov_20.6514_ID_8802 76.66246\n",
       "3 NODE_100_length_3245_cov_9.28223_ID_9940 58.79815\n",
       "4 NODE_101_length_3178_cov_7.86693_ID_8724 97.92322\n",
       "5 NODE_102_length_3178_cov_13.022_ID_9248  65.44997\n",
       "6 NODE_103_length_3165_cov_16.05_ID_30769  66.35071"
      ]
     },
     "metadata": {},
     "output_type": "display_data"
    }
   ],
   "source": [
    "perscaf "
   ]
  },
  {
   "cell_type": "code",
   "execution_count": 21,
   "metadata": {},
   "outputs": [
    {
     "data": {
      "text/html": [
       "<table>\n",
       "<thead><tr><th scope=col>Scaffold</th><th scope=col>posneg</th></tr></thead>\n",
       "<tbody>\n",
       "</tbody>\n",
       "</table>\n"
      ],
      "text/latex": [
       "\\begin{tabular}{r|ll}\n",
       " Scaffold & posneg\\\\\n",
       "\\hline\n",
       "\\end{tabular}\n"
      ],
      "text/markdown": [
       "\n",
       "| Scaffold | posneg |\n",
       "|---|---|\n",
       "\n"
      ],
      "text/plain": [
       "     Scaffold posneg"
      ]
     },
     "metadata": {},
     "output_type": "display_data"
    }
   ],
   "source": [
    "perscaf[perscaf$posneg==0,]"
   ]
  },
  {
   "cell_type": "code",
   "execution_count": null,
   "metadata": {},
   "outputs": [],
   "source": []
  },
  {
   "cell_type": "code",
   "execution_count": 17,
   "metadata": {},
   "outputs": [
    {
     "data": {
      "image/png": "[encoded data removed]",
      "text/plain": [
       "plot without title"
      ]
     },
     "metadata": {},
     "output_type": "display_data"
    }
   ],
   "source": [
    "ggplot(perscaf, aes(x = Scaffold, y = posneg))+\n",
    "       geom_bar(stat=\"identity\", position=\"dodge\")+\n",
    "#scale_color_manual(values = rep(c(\"lightgrey\", \"darkgrey\"), 237 )) +\n",
    "#geom_line()+\n",
    "theme_bw()+\n",
    "theme(legend.position=\"none\", panel.border = element_blank(), \n",
    "          panel.grid.major = element_blank(), \n",
    "          panel.grid.minor = element_blank(),\n",
    "          axis.ticks.x=element_blank(), axis.line=element_line(color=\"black\"), axis.text=element_blank()) +\n",
    "          ylab(\"percent of scaffold covered\")"
   ]
  },
  {
   "cell_type": "code",
   "execution_count": null,
   "metadata": {},
   "outputs": [],
   "source": [
    "plot(coverage316$Depth)"
   ]
  },
  {
   "cell_type": "code",
   "execution_count": null,
   "metadata": {},
   "outputs": [],
   "source": []
  }
 ],
 "metadata": {
  "kernelspec": {
   "display_name": "R",
   "language": "R",
   "name": "ir"
  },
  "language_info": {
   "codemirror_mode": "r",
   "file_extension": ".r",
   "mimetype": "text/x-r-source",
   "name": "R",
   "pygments_lexer": "r",
   "version": "4.1.2"
  }
 },
 "nbformat": 4,
 "nbformat_minor": 2
}
